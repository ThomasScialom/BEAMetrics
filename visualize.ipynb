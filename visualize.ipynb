{
 "cells": [
  {
   "cell_type": "code",
   "execution_count": null,
   "outputs": [],
   "source": [
    "from utils_visualisation import get_d_scores_global, make_dataframe_from_dict\n",
    "from beametrics.configs import *\n",
    "\n",
    "D_ALL_DATASETS = {\n",
    "    'TranslationWMT2019_gu_en': {'class': TranslationWMT2019_gu_en, 'map_dim': {'Correctness': 'DaRR'}},\n",
    "    'TranslationWMT2019_kk_en': {'class': TranslationWMT2019_kk_en, 'map_dim': {'Correctness': 'DaRR'}},\n",
    "    'TranslationWMT2019_lt_en': {'class': TranslationWMT2019_lt_en, 'map_dim': {'Correctness': 'DaRR'}},\n",
    "    'TranslationWMT2019_ru_en': {'class': TranslationWMT2019_ru_en, 'map_dim': {'Correctness': 'DaRR'}},\n",
    "    'TranslationWMT2019_zh_en': {'class': TranslationWMT2019_zh_en, 'map_dim': {'Correctness': 'DaRR'}},\n",
    "    'TranslationWMT2019_de_en': {'class': TranslationWMT2019_de_en, 'map_dim': {'Correctness': 'DaRR'}},\n",
    "    'TranslationWMT2019_fi_en': {'class': TranslationWMT2019_fi_en, 'map_dim': {'Correctness': 'DaRR'}},\n",
    "    'Data2textWebNLG': {'class': Data2textWebNLG, 'map_dim': {'readability': 'fluency', 'Correctness': 'semantics'}},\n",
    "    'SimplificationLikertSystem': {'class': SimplificationLikertSystem, 'map_dim': {'readability': 'fluency', 'Correctness': 'meaning', 'simplicity': 'simplicity'}},\n",
    "    'SimplificationMUSS': {'class': SimplificationMUSS, 'map_dim': {'fluency': 'fluency', 'Correctness': 'adequacy'}}, # 'simplicity': 'simplicity'\n",
    "    'CaptioningPascal50s': {'class': CaptioningPascal50s, 'map_dim': {'Correctness': 'score'}},\n",
    "    'CaptioningFlickr8k': {'class': CaptioningFlickr8k, 'map_dim': {'Correctness': 'score'}},\n",
    "    'SummarizationMultiSummEval': {'class': SummarizationMultiSummEval, 'map_dim': {'Correctness': 'focus', 'relevance': 'coverage'}},\n",
    "    'RealSum': {'class': REALSum_eval, 'map_dim': {'Correctness': 'litepyramid_recall'}},\n",
    "    'SummarizationCNNDM': {'class': SummarizationCNNDM, 'map_dim': {'Correctness': 'consistency', 'relevance': 'relevance', 'coherence': 'coherence', 'readability': 'fluency'}},\n",
    "    'NeurIPS2020openQA': {'class': NeurIPS2020openQA, 'map_dim': {'obviousness': 'plausibility', 'Correctness': 'consistency'}},\n",
    "    'OkVQA_eval': {'class': OkVQA_eval, 'map_dim': {'possibility': 'possibility', 'obviousness': 'obviousness', 'Correctness': 'correctness'}},\n",
    "}\n",
    "\n",
    "d_short_task = {\n",
    "    'simplification': 'Sim',\n",
    "    'data2text': 'DTG',\n",
    "    'captioning': 'ImCa',\n",
    "    'summarization': 'Sum',\n",
    "    'QA': 'QA',\n",
    "    'VQA': 'VQA',\n",
    "    'translation': 'MT'\n",
    "}\n",
    "\n",
    "str_to_removes = ['Nubia (irrelevancy)']\n",
    "\n",
    "path_correlations = \"data/correlation/\"\n",
    "\n",
    "for correl_function in ['pearsonr', 'kendalltau']:\n",
    "    d_scores_global = get_d_scores_global(D_ALL_DATASETS, d_short_task, correl_function, path_correlations)\n",
    "    for key in ['other', 'Correctness']:\n",
    "        s = make_dataframe_from_dict(path_correlations, d_scores_global, key, correl_function, str_to_removes,\n",
    "                                     cmap='PuBu')\n",
    "\n",
    "        print(key, correl_function)\n",
    "        display(s)\n",
    "\n",
    "\n",
    "\n",
    "\n",
    "\n"
   ],
   "metadata": {
    "collapsed": false,
    "pycharm": {
     "name": "#%%\n"
    }
   }
  }
 ],
 "metadata": {
  "kernelspec": {
   "display_name": "Python 3",
   "language": "python",
   "name": "python3"
  },
  "language_info": {
   "codemirror_mode": {
    "name": "ipython",
    "version": 2
   },
   "file_extension": ".py",
   "mimetype": "text/x-python",
   "name": "python",
   "nbconvert_exporter": "python",
   "pygments_lexer": "ipython2",
   "version": "2.7.6"
  },
  "pycharm": {
   "stem_cell": {
    "cell_type": "raw",
    "source": [],
    "metadata": {
     "collapsed": false
    }
   }
  }
 },
 "nbformat": 4,
 "nbformat_minor": 0
}